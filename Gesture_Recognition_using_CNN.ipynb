{
 "cells": [
  {
   "cell_type": "markdown",
   "metadata": {
    "id": "0UU4KDw2tNTs"
   },
   "source": [
    "# Gesture Recognition\n",
    "In this group project, you are going to build a 3D Conv model that will be able to predict the 5 gestures correctly. Please import the following libraries to get started."
   ]
  },
  {
   "cell_type": "code",
   "execution_count": 4,
   "metadata": {
    "id": "nEC1Ea_-tNT2"
   },
   "outputs": [],
   "source": [
    "import numpy as np\n",
    "import os\n",
    "from scipy.misc import imread, imresize\n",
    "import datetime"
   ]
  },
  {
   "cell_type": "markdown",
   "metadata": {
    "id": "E1c0biEXtNT6"
   },
   "source": [
    "We set the random seed so that the results don't vary drastically."
   ]
  },
  {
   "cell_type": "code",
   "execution_count": 5,
   "metadata": {
    "id": "_knwogpItNT6"
   },
   "outputs": [],
   "source": [
    "np.random.seed(30)\n",
    "import random as rn\n",
    "rn.seed(30)\n",
    "from keras import backend as K\n",
    "import tensorflow as tf\n",
    "tf.random.set_seed(30)"
   ]
  },
  {
   "cell_type": "markdown",
   "metadata": {
    "id": "fXnFmAeZtNT7"
   },
   "source": [
    "In this block, you read the folder names for training and validation. You also set the `batch_size` here. Note that you set the batch size in such a way that you are able to use the GPU in full capacity. You keep increasing the batch size until the machine throws an error."
   ]
  },
  {
   "cell_type": "code",
   "execution_count": 6,
   "metadata": {
    "id": "sItOw_FgtNT7"
   },
   "outputs": [],
   "source": [
    "train_doc = np.random.permutation(open('Project_data/train.csv').readlines())\n",
    "val_doc = np.random.permutation(open('Project_data/val.csv').readlines())\n",
    "batch_size = [64, 32] #experiment with the batch size"
   ]
  },
  {
   "cell_type": "markdown",
   "metadata": {
    "id": "hMVnd3q3tNT_"
   },
   "source": [
    "## Generator\n",
    "This is one of the most important part of the code. The overall structure of the generator has been given. In the generator, you are going to preprocess the images as you have images of 2 different dimensions as well as create a batch of video frames. You have to experiment with `img_idx`, `y`,`z` and normalization such that you get high accuracy."
   ]
  },
  {
   "cell_type": "code",
   "execution_count": 7,
   "metadata": {
    "id": "JSLyV2c7w5LN"
   },
   "outputs": [],
   "source": [
    "# defining variables \n",
    "\n",
    "img_idx= [x for x in range(0,30,2)]\n",
    "img_width, img_height= 84, 84\n",
    "channels= 3"
   ]
  },
  {
   "cell_type": "code",
   "execution_count": 8,
   "metadata": {
    "id": "8Kx84vJvtNT_"
   },
   "outputs": [],
   "source": [
    "def generator(source_path, folder_list, batch_size):\n",
    "    print( 'Source path = ', source_path, '; batch size =', batch_size)\n",
    "    \n",
    "    while True:\n",
    "\n",
    "        t = np.random.permutation(folder_list)\n",
    "        num_batches = len(t)//batch_size # calculate the number of batches\n",
    "\n",
    "        for batch in range(num_batches): # we iterate over the number of batches\n",
    "            batch_data = np.zeros((batch_size,len(img_idx), img_width, img_height,3)) # x is the number of images you use for each video, (y,z) is the final size of the input images and 3 is the number of channels RGB\n",
    "            batch_labels = np.zeros((batch_size,5)) # batch_labels is the one hot representation of the output\n",
    "\n",
    "            for folder in range(batch_size): # iterate over the batch_size\n",
    "                imgs = os.listdir(source_path+'/'+ t[folder + (batch*batch_size)].split(';')[0]) # read all the images in the folder\n",
    "\n",
    "                for idx,item in enumerate(img_idx): #  Iterate iver the frames/images of a folder to read them in\n",
    "                    image = imread(source_path+'/'+ t[folder + (batch*batch_size)].strip().split(';')[0]+'/'+imgs[item]).astype(np.float32)\n",
    "                    \n",
    "                    #crop the images and resize them. Note that the images are of 2 different shape \n",
    "                    crop_image= image[10:, 10: ,:]\n",
    "                    resize_image= imresize(crop_image, (img_width, img_height, channels))\n",
    "\n",
    "                    #and the conv3D will throw error if the inputs in a batch have different shapes\n",
    "                    batch_data[folder,idx,:,:,0] = (resize_image[:,:, 0])//255 #normalise and feed in the image\n",
    "                    batch_data[folder,idx,:,:,1] = (resize_image[:,:, 1])//255 #normalise and feed in the image\n",
    "                    batch_data[folder,idx,:,:,2] = (resize_image[:,:, 2])//255 #normalise and feed in the image\n",
    "                    \n",
    "                batch_labels[folder, int(t[folder + (batch*batch_size)].strip().split(';')[2])] = 1\n",
    "            yield batch_data, batch_labels #you yield the batch_data and the batch_labels, remember what does yield do\n",
    "\n",
    "        \n",
    "        # write the code for the remaining data points which are left after full batches\n",
    "\n",
    "        if (len(t)%batch_size)!= 0: \n",
    "            \n",
    "            batch_size= len(t)%batch_size\n",
    "            batch_data = np.zeros((batch_size,len(img_idx), img_width, img_height,3)) # x is the number of images you use for each video, (y,z) is the final size of the input images and 3 is the number of channels RGB\n",
    "            batch_labels = np.zeros((batch_size,5)) # batch_labels is the one hot representation of the output\n",
    "\n",
    "            for folder in range(batch_size): # iterate over the batch_size\n",
    "                imgs = os.listdir(source_path+'/'+ t[folder + (batch_size)].split(';')[0]) # read all the images in the folder\n",
    "\n",
    "                for idx,item in enumerate(img_idx): #  Iterate iver the frames/images of a folder to read them in\n",
    "                    image = imread(source_path+'/'+ t[folder + (batch_size)].strip().split(';')[0]+'/'+imgs[item]).astype(np.float32)\n",
    "                    \n",
    "                    #crop the images and resize them. Note that the images are of 2 different shape \n",
    "                    crop_image= image[10:, 10: ,:]\n",
    "                    resize_image= imresize(crop_image, (img_width, img_height, channels))\n",
    "\n",
    "                    #and the conv3D will throw error if the inputs in a batch have different shapes\n",
    "                    batch_data[folder,idx,:,:,0] = (resize_image[:,:, 0])//255 #normalise and feed in the image\n",
    "                    batch_data[folder,idx,:,:,1] = (resize_image[:,:, 1])//255 #normalise and feed in the image\n",
    "                    batch_data[folder,idx,:,:,2] = (resize_image[:,:, 2])//255 #normalise and feed in the image\n",
    "                    \n",
    "                batch_labels[folder, int(t[folder + (batch*batch_size)].strip().split(';')[2])] = 1\n",
    "            yield batch_data, batch_labels #you yield the batch_data and the batch_labels, remember what does yield do\n"
   ]
  },
  {
   "cell_type": "markdown",
   "metadata": {
    "id": "_kAqiq_rtNUA"
   },
   "source": [
    "Note here that a video is represented above in the generator as (number of images, height, width, number of channels). Take this into consideration while creating the model architecture."
   ]
  },
  {
   "cell_type": "markdown",
   "metadata": {
    "id": "BBTSPNpCtNUD"
   },
   "source": [
    "## Model\n",
    "Here you make the model using different functionalities that Keras provides. Remember to use `Conv3D` and `MaxPooling3D` and not `Conv2D` and `Maxpooling2D` for a 3D convolution model. You would want to use `TimeDistributed` while building a Conv2D + RNN model. Also remember that the last layer is the softmax. Design the network in such a way that the model is able to give good accuracy on the least number of parameters so that it can fit in the memory of the webcam."
   ]
  },
  {
   "cell_type": "code",
   "execution_count": 58,
   "metadata": {
    "id": "_edcWl9qtNUE"
   },
   "outputs": [],
   "source": [
    "from tensorflow.keras.models import Sequential, Model\n",
    "from tensorflow.keras.layers import Dense, GRU, Flatten, TimeDistributed, Flatten, BatchNormalization, Activation\n",
    "from tensorflow.keras.layers import Conv3D, MaxPooling3D, Dropout\n",
    "from tensorflow.keras.callbacks import ModelCheckpoint, ReduceLROnPlateau, EarlyStopping\n",
    "from tensorflow.keras import optimizers"
   ]
  },
  {
   "cell_type": "markdown",
   "metadata": {
    "id": "ZfbYZm30tNUF"
   },
   "source": [
    "Now that you have written the model, the next step is to `compile` the model. When you print the `summary` of the model, you'll see the total number of parameters you have to train."
   ]
  },
  {
   "cell_type": "markdown",
   "metadata": {
    "id": "AsG-oouDY933"
   },
   "source": [
    "### Convolutional 3D "
   ]
  },
  {
   "cell_type": "markdown",
   "metadata": {
    "id": "t6agVQy4Y935"
   },
   "source": [
    "### Basic Convolutional Model with Batch Normalization and Without Dropout"
   ]
  },
  {
   "cell_type": "code",
   "execution_count": 78,
   "metadata": {
    "colab": {
     "base_uri": "https://localhost:8080/"
    },
    "id": "Xd8eDn1mY935",
    "outputId": "33cec241-5bfd-4c06-bcef-598a9f533942"
   },
   "outputs": [
    {
     "name": "stderr",
     "output_type": "stream",
     "text": [
      "Exception ignored in: <function MediaFileUpload.__del__ at 0x7fc06bcffe60>\n",
      "Traceback (most recent call last):\n",
      "  File \"/usr/local/lib/python3.7/dist-packages/googleapiclient/http.py\", line 587, in __del__\n",
      "    self._fd.close()\n",
      "AttributeError: 'MediaFileUpload' object has no attribute '_fd'\n"
     ]
    }
   ],
   "source": [
    "# Conv3D()\n",
    "input_shape= (len(img_idx), img_width, img_height, channels)\n",
    "model2 = Sequential()\n",
    "\n",
    "model2.add(Conv3D(16, (3,3,3), strides=(1,1,1),padding= 'same', \n",
    "                 input_shape= input_shape, name=\"conv1\"))\n",
    "model2.add(Activation('relu'))\n",
    "model2.add(BatchNormalization())\n",
    "model2.add(MaxPooling3D(pool_size= (2,2,1), strides= (2,2,1)))\n",
    "\n",
    "model2.add(Conv3D(32, (3,3,3), strides=(1,1,1),padding= 'same', \n",
    "                 input_shape= input_shape, name= \"conv2\"))\n",
    "model2.add(Activation('relu'))\n",
    "model2.add(BatchNormalization())\n",
    "model2.add(MaxPooling3D(pool_size= (2,2,1), strides= (2,2,1)))\n",
    "          \n",
    "model2.add(Conv3D(64, (3,3,3), strides= (1,1,1), padding= 'same', \n",
    "                 input_shape= input_shape, name= \"conv3\"))\n",
    "model2.add(Activation('relu'))\n",
    "model2.add(BatchNormalization())\n",
    "model2.add(MaxPooling3D(pool_size= (2,2,1), strides= (2,2,1)))\n",
    "          \n",
    "model2.add(Conv3D(128, (3,3,3), strides= (1,1,1),padding='same', \n",
    "                 input_shape= input_shape, name= \"conv4\"))\n",
    "model2.add(Activation('relu'))\n",
    "model2.add(BatchNormalization())\n",
    "model2.add(MaxPooling3D(pool_size=(2,2,1), strides= (2,2,1), padding= 'same'))\n",
    "\n",
    "model2.add(Flatten())\n",
    "\n",
    "model2.add(Dense(512, activation= 'relu'))\n",
    "model2.add(BatchNormalization())\n",
    "model2.add(Dense(5, activation= 'softmax'))"
   ]
  },
  {
   "cell_type": "code",
   "execution_count": 79,
   "metadata": {
    "colab": {
     "base_uri": "https://localhost:8080/"
    },
    "id": "uqiud0J_Y936",
    "outputId": "a00fc614-31af-43a3-ebd2-c7e0f4078286",
    "scrolled": true
   },
   "outputs": [
    {
     "name": "stdout",
     "output_type": "stream",
     "text": [
      "Model: \"sequential_2\"\n",
      "_________________________________________________________________\n",
      "Layer (type)                 Output Shape              Param #   \n",
      "=================================================================\n",
      "conv1 (Conv3D)               (None, 15, 84, 84, 16)    1312      \n",
      "_________________________________________________________________\n",
      "activation_8 (Activation)    (None, 15, 84, 84, 16)    0         \n",
      "_________________________________________________________________\n",
      "batch_normalization (BatchNo (None, 15, 84, 84, 16)    64        \n",
      "_________________________________________________________________\n",
      "max_pooling3d_8 (MaxPooling3 (None, 7, 42, 84, 16)     0         \n",
      "_________________________________________________________________\n",
      "conv2 (Conv3D)               (None, 7, 42, 84, 32)     13856     \n",
      "_________________________________________________________________\n",
      "activation_9 (Activation)    (None, 7, 42, 84, 32)     0         \n",
      "_________________________________________________________________\n",
      "batch_normalization_1 (Batch (None, 7, 42, 84, 32)     128       \n",
      "_________________________________________________________________\n",
      "max_pooling3d_9 (MaxPooling3 (None, 3, 21, 84, 32)     0         \n",
      "_________________________________________________________________\n",
      "conv3 (Conv3D)               (None, 3, 21, 84, 64)     55360     \n",
      "_________________________________________________________________\n",
      "activation_10 (Activation)   (None, 3, 21, 84, 64)     0         \n",
      "_________________________________________________________________\n",
      "batch_normalization_2 (Batch (None, 3, 21, 84, 64)     256       \n",
      "_________________________________________________________________\n",
      "max_pooling3d_10 (MaxPooling (None, 1, 10, 84, 64)     0         \n",
      "_________________________________________________________________\n",
      "conv4 (Conv3D)               (None, 1, 10, 84, 128)    221312    \n",
      "_________________________________________________________________\n",
      "activation_11 (Activation)   (None, 1, 10, 84, 128)    0         \n",
      "_________________________________________________________________\n",
      "batch_normalization_3 (Batch (None, 1, 10, 84, 128)    512       \n",
      "_________________________________________________________________\n",
      "max_pooling3d_11 (MaxPooling (None, 1, 5, 84, 128)     0         \n",
      "_________________________________________________________________\n",
      "flatten_2 (Flatten)          (None, 53760)             0         \n",
      "_________________________________________________________________\n",
      "dense_4 (Dense)              (None, 512)               27525632  \n",
      "_________________________________________________________________\n",
      "batch_normalization_4 (Batch (None, 512)               2048      \n",
      "_________________________________________________________________\n",
      "dense_5 (Dense)              (None, 5)                 2565      \n",
      "=================================================================\n",
      "Total params: 27,823,045\n",
      "Trainable params: 27,821,541\n",
      "Non-trainable params: 1,504\n",
      "_________________________________________________________________\n",
      "None\n"
     ]
    }
   ],
   "source": [
    "optimiser = optimizers.Adam(lr= 0.001) #write your optimizer\n",
    "model2.compile(optimizer=optimiser, loss='categorical_crossentropy', metrics=['categorical_accuracy'])\n",
    "print (model2.summary())"
   ]
  },
  {
   "cell_type": "markdown",
   "metadata": {
    "id": "cXdM2pK4flwS"
   },
   "source": [
    "#### Batch Size - 64\n",
    "#### Epochs - 50"
   ]
  },
  {
   "cell_type": "markdown",
   "metadata": {
    "id": "NsMtMtooflwS"
   },
   "source": [
    "Let us create the `train_generator` and the `val_generator` which will be used in `.fit_generator`."
   ]
  },
  {
   "cell_type": "code",
   "execution_count": 99,
   "metadata": {
    "colab": {
     "base_uri": "https://localhost:8080/"
    },
    "id": "8Kn-GpnxflwT",
    "outputId": "7a7fea63-8a37-49c7-a47e-c86b7cdac25e"
   },
   "outputs": [
    {
     "name": "stdout",
     "output_type": "stream",
     "text": [
      "# training sequences = 663\n",
      "# validation sequences = 100\n",
      "# epochs = 50\n"
     ]
    }
   ],
   "source": [
    "curr_dt_time = datetime.datetime.now()\n",
    "train_path = 'Project_data/train'\n",
    "val_path = 'Project_data/val'\n",
    "num_train_sequences = len(train_doc)\n",
    "print('# training sequences =', num_train_sequences)\n",
    "num_val_sequences = len(val_doc)\n",
    "print('# validation sequences =', num_val_sequences)\n",
    "num_epochs = 50 # choose the number of epochs\n",
    "print ('# epochs =', num_epochs)"
   ]
  },
  {
   "cell_type": "code",
   "execution_count": 100,
   "metadata": {
    "id": "FOytAbYrflwT"
   },
   "outputs": [],
   "source": [
    "train_generator = generator(train_path, train_doc, batch_size[0])\n",
    "val_generator = generator(val_path, val_doc, batch_size[0])"
   ]
  },
  {
   "cell_type": "code",
   "execution_count": 101,
   "metadata": {
    "colab": {
     "base_uri": "https://localhost:8080/"
    },
    "id": "pV8gZabFflwT",
    "outputId": "3f7399a0-af96-4d9e-8af3-97eb3204554c"
   },
   "outputs": [
    {
     "name": "stdout",
     "output_type": "stream",
     "text": [
      "WARNING:tensorflow:`period` argument is deprecated. Please use `save_freq` to specify the frequency in number of batches seen.\n",
      "WARNING:tensorflow:`epsilon` argument is deprecated and will be removed, use `min_delta` instead.\n"
     ]
    }
   ],
   "source": [
    "model_name = 'model_init' + '_' + str(curr_dt_time).replace(' ','').replace(':','_') + '/'\n",
    "    \n",
    "if not os.path.exists(model_name):\n",
    "    os.mkdir(model_name)\n",
    "        \n",
    "filepath = model_name + 'model-{epoch:05d}-{loss:.5f}-{categorical_accuracy:.5f}-{val_loss:.5f}-{val_categorical_accuracy:.5f}.h5'\n",
    "\n",
    "checkpoint = ModelCheckpoint(filepath, monitor='val_loss', verbose=1, save_best_only=True, save_weights_only=False, mode='auto', period=1)\n",
    "\n",
    "LR = ReduceLROnPlateau(monitor = \"val_loss\", factor = 0.1, patience = 2, \n",
    "                       verbose = 0, mode = \"auto\", epsilon = 1e-04, \n",
    "                       cooldown = 0,min_lr = 0) # write the REducelronplateau code here\n",
    "\n",
    "ES= EarlyStopping(monitor= 'val_loss', min_delta= 0, patience= 10, \n",
    "                  verbose= 0, mode= 'auto', baseline= None)\n",
    "\n",
    "callbacks_list = [checkpoint, LR, ES]"
   ]
  },
  {
   "cell_type": "markdown",
   "metadata": {
    "id": "wBNLFfncflwT"
   },
   "source": [
    "The `steps_per_epoch` and `validation_steps` are used by `fit_generator` to decide the number of next() calls it need to make."
   ]
  },
  {
   "cell_type": "code",
   "execution_count": 102,
   "metadata": {
    "id": "FegezuuyflwU"
   },
   "outputs": [],
   "source": [
    "if (num_train_sequences%batch_size[0]) == 0:\n",
    "    steps_per_epoch = int(num_train_sequences/batch_size[0])\n",
    "else:\n",
    "    steps_per_epoch = (num_train_sequences//batch_size[0]) + 1\n",
    "\n",
    "if (num_val_sequences%batch_size[0]) == 0:\n",
    "    validation_steps = int(num_val_sequences/batch_size[0])\n",
    "else:\n",
    "    validation_steps = (num_val_sequences//batch_size[0]) + 1"
   ]
  },
  {
   "cell_type": "markdown",
   "metadata": {
    "id": "47Z35JUlflwV"
   },
   "source": [
    "Let us now fit the model. This will start training the model and with the help of the checkpoints, you'll be able to save the model at the end of each epoch."
   ]
  },
  {
   "cell_type": "code",
   "execution_count": 103,
   "metadata": {
    "colab": {
     "base_uri": "https://localhost:8080/"
    },
    "id": "AkokikOzflwV",
    "outputId": "0b52702f-c722-4353-9a6a-ad17e18733f1"
   },
   "outputs": [
    {
     "name": "stderr",
     "output_type": "stream",
     "text": [
      "/usr/local/lib/python3.7/dist-packages/tensorflow/python/keras/engine/training.py:1844: UserWarning: `Model.fit_generator` is deprecated and will be removed in a future version. Please use `Model.fit`, which supports generators.\n",
      "  warnings.warn('`Model.fit_generator` is deprecated and '\n",
      "/usr/local/lib/python3.7/dist-packages/ipykernel_launcher.py:17: DeprecationWarning:     `imread` is deprecated!\n",
      "    `imread` is deprecated in SciPy 1.0.0, and will be removed in 1.2.0.\n",
      "    Use ``imageio.imread`` instead.\n",
      "/usr/local/lib/python3.7/dist-packages/ipykernel_launcher.py:21: DeprecationWarning:     `imresize` is deprecated!\n",
      "    `imresize` is deprecated in SciPy 1.0.0, and will be removed in 1.2.0.\n",
      "    Use ``skimage.transform.resize`` instead.\n"
     ]
    },
    {
     "name": "stdout",
     "output_type": "stream",
     "text": [
      "Source path =  Project_data/train ; batch size = 64\n",
      "Epoch 1/50\n",
      " 9/11 [=======================>......] - ETA: 6s - loss: 0.1770 - categorical_accuracy: 0.9531"
     ]
    },
    {
     "name": "stderr",
     "output_type": "stream",
     "text": [
      "/usr/local/lib/python3.7/dist-packages/ipykernel_launcher.py:44: DeprecationWarning:     `imread` is deprecated!\n",
      "    `imread` is deprecated in SciPy 1.0.0, and will be removed in 1.2.0.\n",
      "    Use ``imageio.imread`` instead.\n",
      "/usr/local/lib/python3.7/dist-packages/ipykernel_launcher.py:48: DeprecationWarning:     `imresize` is deprecated!\n",
      "    `imresize` is deprecated in SciPy 1.0.0, and will be removed in 1.2.0.\n",
      "    Use ``skimage.transform.resize`` instead.\n"
     ]
    },
    {
     "name": "stdout",
     "output_type": "stream",
     "text": [
      "11/11 [==============================] - ETA: 0s - loss: 0.3203 - categorical_accuracy: 0.9276Source path =  Project_data/val ; batch size = 64\n",
      "11/11 [==============================] - 38s 4s/step - loss: 0.3203 - categorical_accuracy: 0.9276 - val_loss: 2.2187 - val_categorical_accuracy: 0.2100\n",
      "\n",
      "Epoch 00001: val_loss improved from inf to 2.21869, saving model to model_init_2021-05-0914_19_05.226677/model-00001-0.32029-0.92760-2.21869-0.21000.h5\n",
      "Epoch 2/50\n",
      "11/11 [==============================] - 18s 2s/step - loss: 0.1970 - categorical_accuracy: 0.9447 - val_loss: 2.0580 - val_categorical_accuracy: 0.1562\n",
      "\n",
      "Epoch 00002: val_loss improved from 2.21869 to 2.05796, saving model to model_init_2021-05-0914_19_05.226677/model-00002-0.19701-0.94466-2.05796-0.15625.h5\n",
      "Epoch 3/50\n",
      "11/11 [==============================] - 16s 2s/step - loss: 0.1791 - categorical_accuracy: 0.9526 - val_loss: 2.0888 - val_categorical_accuracy: 0.2321\n",
      "\n",
      "Epoch 00003: val_loss did not improve from 2.05796\n",
      "Epoch 4/50\n",
      "11/11 [==============================] - 14s 1s/step - loss: 0.4903 - categorical_accuracy: 0.8884 - val_loss: 2.1443 - val_categorical_accuracy: 0.2500\n",
      "\n",
      "Epoch 00004: val_loss did not improve from 2.05796\n",
      "Epoch 5/50\n",
      "11/11 [==============================] - 12s 1s/step - loss: 0.2369 - categorical_accuracy: 0.9426 - val_loss: 2.5041 - val_categorical_accuracy: 0.1875\n",
      "\n",
      "Epoch 00005: val_loss did not improve from 2.05796\n",
      "Epoch 6/50\n",
      "11/11 [==============================] - 10s 1s/step - loss: 0.1941 - categorical_accuracy: 0.9330 - val_loss: 2.2791 - val_categorical_accuracy: 0.2500\n",
      "\n",
      "Epoch 00006: val_loss did not improve from 2.05796\n",
      "Epoch 7/50\n",
      "11/11 [==============================] - 11s 1s/step - loss: 0.5574 - categorical_accuracy: 0.8867 - val_loss: 2.9201 - val_categorical_accuracy: 0.0000e+00\n",
      "\n",
      "Epoch 00007: val_loss did not improve from 2.05796\n",
      "Epoch 8/50\n",
      "11/11 [==============================] - 9s 895ms/step - loss: 0.1850 - categorical_accuracy: 0.9519 - val_loss: 1.6136 - val_categorical_accuracy: 0.2500\n",
      "\n",
      "Epoch 00008: val_loss improved from 2.05796 to 1.61359, saving model to model_init_2021-05-0914_19_05.226677/model-00008-0.18501-0.95187-1.61359-0.25000.h5\n",
      "Epoch 9/50\n",
      "11/11 [==============================] - 10s 1s/step - loss: 0.2315 - categorical_accuracy: 0.9144 - val_loss: 2.9362 - val_categorical_accuracy: 0.1250\n",
      "\n",
      "Epoch 00009: val_loss did not improve from 1.61359\n",
      "Epoch 10/50\n",
      "11/11 [==============================] - 10s 993ms/step - loss: 0.2062 - categorical_accuracy: 0.9465 - val_loss: 1.9299 - val_categorical_accuracy: 0.3750\n",
      "\n",
      "Epoch 00010: val_loss did not improve from 1.61359\n",
      "Epoch 11/50\n",
      "11/11 [==============================] - 10s 966ms/step - loss: 0.2350 - categorical_accuracy: 0.9251 - val_loss: 2.2342 - val_categorical_accuracy: 0.2500\n",
      "\n",
      "Epoch 00011: val_loss did not improve from 1.61359\n",
      "Epoch 12/50\n",
      "11/11 [==============================] - 9s 912ms/step - loss: 0.2287 - categorical_accuracy: 0.9305 - val_loss: 2.0451 - val_categorical_accuracy: 0.3750\n",
      "\n",
      "Epoch 00012: val_loss did not improve from 1.61359\n",
      "Epoch 13/50\n",
      "11/11 [==============================] - 10s 984ms/step - loss: 0.1762 - categorical_accuracy: 0.9572 - val_loss: 0.9430 - val_categorical_accuracy: 0.7500\n",
      "\n",
      "Epoch 00013: val_loss improved from 1.61359 to 0.94303, saving model to model_init_2021-05-0914_19_05.226677/model-00013-0.17624-0.95722-0.94303-0.75000.h5\n",
      "Epoch 14/50\n",
      "11/11 [==============================] - 10s 1s/step - loss: 0.2523 - categorical_accuracy: 0.9198 - val_loss: 1.7722 - val_categorical_accuracy: 0.2500\n",
      "\n",
      "Epoch 00014: val_loss did not improve from 0.94303\n",
      "Epoch 15/50\n",
      "11/11 [==============================] - 10s 970ms/step - loss: 0.2564 - categorical_accuracy: 0.9144 - val_loss: 2.3708 - val_categorical_accuracy: 0.3750\n",
      "\n",
      "Epoch 00015: val_loss did not improve from 0.94303\n",
      "Epoch 16/50\n",
      "11/11 [==============================] - 10s 998ms/step - loss: 0.3185 - categorical_accuracy: 0.8984 - val_loss: 2.2781 - val_categorical_accuracy: 0.1250\n",
      "\n",
      "Epoch 00016: val_loss did not improve from 0.94303\n",
      "Epoch 17/50\n",
      "11/11 [==============================] - 9s 917ms/step - loss: 0.1819 - categorical_accuracy: 0.9626 - val_loss: 1.5299 - val_categorical_accuracy: 0.2500\n",
      "\n",
      "Epoch 00017: val_loss did not improve from 0.94303\n",
      "Epoch 18/50\n",
      "11/11 [==============================] - 11s 1s/step - loss: 0.2261 - categorical_accuracy: 0.9412 - val_loss: 1.5922 - val_categorical_accuracy: 0.7500\n",
      "\n",
      "Epoch 00018: val_loss did not improve from 0.94303\n",
      "Epoch 19/50\n",
      "11/11 [==============================] - 9s 925ms/step - loss: 0.2139 - categorical_accuracy: 0.9251 - val_loss: 1.9498 - val_categorical_accuracy: 0.2500\n",
      "\n",
      "Epoch 00019: val_loss did not improve from 0.94303\n",
      "Epoch 20/50\n",
      "11/11 [==============================] - 10s 964ms/step - loss: 0.1833 - categorical_accuracy: 0.9305 - val_loss: 1.4125 - val_categorical_accuracy: 0.5000\n",
      "\n",
      "Epoch 00020: val_loss did not improve from 0.94303\n",
      "Epoch 21/50\n",
      "11/11 [==============================] - 10s 972ms/step - loss: 0.2189 - categorical_accuracy: 0.9251 - val_loss: 2.2011 - val_categorical_accuracy: 0.1250\n",
      "\n",
      "Epoch 00021: val_loss did not improve from 0.94303\n",
      "Epoch 22/50\n",
      "11/11 [==============================] - 10s 944ms/step - loss: 0.2668 - categorical_accuracy: 0.9358 - val_loss: 1.2474 - val_categorical_accuracy: 0.6250\n",
      "\n",
      "Epoch 00022: val_loss did not improve from 0.94303\n",
      "Epoch 23/50\n",
      "11/11 [==============================] - 10s 992ms/step - loss: 0.2827 - categorical_accuracy: 0.9091 - val_loss: 1.2680 - val_categorical_accuracy: 0.2500\n",
      "\n",
      "Epoch 00023: val_loss did not improve from 0.94303\n"
     ]
    },
    {
     "data": {
      "text/plain": [
       "<tensorflow.python.keras.callbacks.History at 0x7fbf5e204550>"
      ]
     },
     "execution_count": 103,
     "metadata": {
      "tags": []
     },
     "output_type": "execute_result"
    }
   ],
   "source": [
    "model2.fit_generator(train_generator, steps_per_epoch=steps_per_epoch, epochs=num_epochs, verbose=1, \n",
    "                    callbacks=callbacks_list, validation_data=val_generator, \n",
    "                    validation_steps=validation_steps, class_weight=None, workers=1, initial_epoch=0)"
   ]
  }
 ],
 "metadata": {
  "accelerator": "GPU",
  "colab": {
   "collapsed_sections": [],
   "name": "Sai Vineeth.ipynb",
   "provenance": [],
   "toc_visible": true
  },
  "kernelspec": {
   "display_name": "Python 3",
   "language": "python",
   "name": "python3"
  },
  "language_info": {
   "codemirror_mode": {
    "name": "ipython",
    "version": 3
   },
   "file_extension": ".py",
   "mimetype": "text/x-python",
   "name": "python",
   "nbconvert_exporter": "python",
   "pygments_lexer": "ipython3",
   "version": "3.8.5"
  }
 },
 "nbformat": 4,
 "nbformat_minor": 4
}
